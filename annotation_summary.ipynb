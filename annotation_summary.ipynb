{
 "cells": [
  {
   "cell_type": "markdown",
   "metadata": {},
   "source": [
    "Holly Houliston \n",
    "\n",
    "17th April 2025 \n",
    "\n",
    "Description: \n",
    "- This script will summarise the number of annotations of a particular class in your labelme annotations. \n",
    "- This script will summarise the number of images in your folder. "
   ]
  },
  {
   "cell_type": "markdown",
   "metadata": {},
   "source": [
    "Part 1 - Summarise the number of annotations of a particular class in your labelme annotations. "
   ]
  },
  {
   "cell_type": "code",
   "execution_count": 1,
   "metadata": {},
   "outputs": [],
   "source": [
    "# import packages \n",
    "import os \n",
    "import json"
   ]
  },
  {
   "cell_type": "code",
   "execution_count": 2,
   "metadata": {},
   "outputs": [],
   "source": [
    "# set your path to the folder containing the annotation (json) files \n",
    "\n",
    "annotation_dir = 'CV4E_application/labels' # replace with the directory of your annotations\n",
    "target_label = 'humpback_whale' # replace with the class name you are interested in "
   ]
  },
  {
   "cell_type": "code",
   "execution_count": 3,
   "metadata": {},
   "outputs": [],
   "source": [
    "def count_label_instances(annotation_dir, target_label):\n",
    "    total_count = 0\n",
    "    \n",
    "    for filename in os.listdir(annotation_dir):\n",
    "        if filename.endswith('.json'):\n",
    "            filepath = os.path.join(annotation_dir, filename)\n",
    "            with open(filepath, \"r\") as f:\n",
    "                data = json.load(f)\n",
    "                for shape in data.get(\"shapes\", []):\n",
    "                    if shape.get(\"label\") == target_label:\n",
    "                        total_count += 1\n",
    "    return total_count\n"
   ]
  },
  {
   "cell_type": "code",
   "execution_count": 4,
   "metadata": {},
   "outputs": [
    {
     "name": "stdout",
     "output_type": "stream",
     "text": [
      "Total count of 'humpback_whale' instances: 1\n"
     ]
    }
   ],
   "source": [
    "# run the counter \n",
    "label_count = count_label_instances(annotation_dir, target_label)\n",
    "\n",
    "# print the results \n",
    "print(f\"Total count of '{target_label}' instances: {label_count}\")"
   ]
  },
  {
   "cell_type": "markdown",
   "metadata": {},
   "source": [
    "Part 2 - Summarise the number of images in your folder. "
   ]
  },
  {
   "cell_type": "code",
   "execution_count": 5,
   "metadata": {},
   "outputs": [],
   "source": [
    "# set your image directory \n",
    "image_dir = 'CV4E_application/img'"
   ]
  },
  {
   "cell_type": "code",
   "execution_count": 6,
   "metadata": {},
   "outputs": [],
   "source": [
    "# set image extensions \n",
    "image_extensions = {\".jpg\", \".png\"} \n"
   ]
  },
  {
   "cell_type": "code",
   "execution_count": 7,
   "metadata": {},
   "outputs": [],
   "source": [
    "def count_images(image_dir):\n",
    "    return sum(\n",
    "        1 for f in os.listdir(image_dir)\n",
    "        if os.path.splitext(f)[1].lower() in image_extensions\n",
    "    )"
   ]
  },
  {
   "cell_type": "code",
   "execution_count": 8,
   "metadata": {},
   "outputs": [
    {
     "name": "stdout",
     "output_type": "stream",
     "text": [
      "Total number of images: 1\n"
     ]
    }
   ],
   "source": [
    "# run the counter \n",
    "\n",
    "image_count = count_images(image_dir)\n",
    "\n",
    "print(f\"Total number of images: {image_count}\")"
   ]
  }
 ],
 "metadata": {
  "kernelspec": {
   "display_name": "Python 3",
   "language": "python",
   "name": "python3"
  },
  "language_info": {
   "codemirror_mode": {
    "name": "ipython",
    "version": 3
   },
   "file_extension": ".py",
   "mimetype": "text/x-python",
   "name": "python",
   "nbconvert_exporter": "python",
   "pygments_lexer": "ipython3",
   "version": "3.11.5"
  }
 },
 "nbformat": 4,
 "nbformat_minor": 2
}
